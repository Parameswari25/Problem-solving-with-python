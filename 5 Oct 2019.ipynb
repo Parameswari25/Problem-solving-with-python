{
 "cells": [
  {
   "cell_type": "markdown",
   "metadata": {},
   "source": [
    "# Lambda\n",
    "* Syntax:lambda arguments:expression\n",
    "* we can write 0 or more arguments but only one expression"
   ]
  },
  {
   "cell_type": "code",
   "execution_count": 2,
   "metadata": {},
   "outputs": [
    {
     "name": "stdout",
     "output_type": "stream",
     "text": [
      "125\n"
     ]
    }
   ],
   "source": [
    "def cube(x):\n",
    "    print(x**3)\n",
    "cube(5)"
   ]
  },
  {
   "cell_type": "code",
   "execution_count": 3,
   "metadata": {},
   "outputs": [
    {
     "data": {
      "text/plain": [
       "<function __main__.<lambda>(x)>"
      ]
     },
     "execution_count": 3,
     "metadata": {},
     "output_type": "execute_result"
    }
   ],
   "source": [
    "lambda x:x**3"
   ]
  },
  {
   "cell_type": "code",
   "execution_count": 4,
   "metadata": {},
   "outputs": [
    {
     "data": {
      "text/plain": [
       "125"
      ]
     },
     "execution_count": 4,
     "metadata": {},
     "output_type": "execute_result"
    }
   ],
   "source": [
    "result=lambda x:x**3\n",
    "result(5)"
   ]
  },
  {
   "cell_type": "markdown",
   "metadata": {},
   "source": [
    "### Multiply given number with 109 using lambda function"
   ]
  },
  {
   "cell_type": "code",
   "execution_count": 5,
   "metadata": {},
   "outputs": [
    {
     "data": {
      "text/plain": [
       "545"
      ]
     },
     "execution_count": 5,
     "metadata": {},
     "output_type": "execute_result"
    }
   ],
   "source": [
    "5*109"
   ]
  },
  {
   "cell_type": "code",
   "execution_count": 7,
   "metadata": {},
   "outputs": [
    {
     "data": {
      "text/plain": [
       "545"
      ]
     },
     "execution_count": 7,
     "metadata": {},
     "output_type": "execute_result"
    }
   ],
   "source": [
    "a=lambda x:x*109\n",
    "a(5)"
   ]
  },
  {
   "cell_type": "markdown",
   "metadata": {},
   "source": [
    "### Write a program to print cubes of 1 to 6 numbers without using loops"
   ]
  },
  {
   "cell_type": "code",
   "execution_count": 12,
   "metadata": {},
   "outputs": [
    {
     "data": {
      "text/plain": [
       "[1, 8, 27, 64, 125, 216]"
      ]
     },
     "execution_count": 12,
     "metadata": {},
     "output_type": "execute_result"
    }
   ],
   "source": [
    "l1=[1,2,3,4,5,6]\n",
    "a=lambda x:x**3\n",
    "list(map(a,l1))\n"
   ]
  },
  {
   "cell_type": "code",
   "execution_count": 11,
   "metadata": {},
   "outputs": [
    {
     "data": {
      "text/plain": [
       "[1, 8, 27, 64, 125, 216]"
      ]
     },
     "execution_count": 11,
     "metadata": {},
     "output_type": "execute_result"
    }
   ],
   "source": [
    "list(map(lambda x:x**3,[1,2,3,4,5,6]))"
   ]
  },
  {
   "cell_type": "markdown",
   "metadata": {},
   "source": [
    "# Filters\n",
    "* Filter function in python is used to check wheather given element is true or false\n",
    "* Syntax: filter(Function,Sequence)"
   ]
  },
  {
   "cell_type": "code",
   "execution_count": 19,
   "metadata": {},
   "outputs": [
    {
     "data": {
      "text/plain": [
       "False"
      ]
     },
     "execution_count": 19,
     "metadata": {},
     "output_type": "execute_result"
    }
   ],
   "source": [
    "#Given one list li=[1,2,\"q\",\"l\"]\n",
    "def isDigit(a):\n",
    "    a=str(a)\n",
    "    if a.isdigit():\n",
    "        return True\n",
    "    return False\n",
    "isDigit(\"l\")"
   ]
  },
  {
   "cell_type": "code",
   "execution_count": 25,
   "metadata": {},
   "outputs": [
    {
     "data": {
      "text/plain": [
       "[1, 2]"
      ]
     },
     "execution_count": 25,
     "metadata": {},
     "output_type": "execute_result"
    }
   ],
   "source": [
    "li=[1,2,\"q\",\"l\"]\n",
    "list(filter(isDigit,li))"
   ]
  },
  {
   "cell_type": "markdown",
   "metadata": {},
   "source": [
    "### To print all prime numbers for a given range using filter() function"
   ]
  },
  {
   "cell_type": "code",
   "execution_count": 26,
   "metadata": {},
   "outputs": [
    {
     "data": {
      "text/plain": [
       "False"
      ]
     },
     "execution_count": 26,
     "metadata": {},
     "output_type": "execute_result"
    }
   ],
   "source": [
    "def prime(n):\n",
    "    count=0\n",
    "    for i in range(1,n+1):\n",
    "        if n%i==0:\n",
    "            count+=1\n",
    "    if count==2:\n",
    "        return True\n",
    "    return False\n",
    "prime(10)"
   ]
  },
  {
   "cell_type": "code",
   "execution_count": 35,
   "metadata": {},
   "outputs": [
    {
     "data": {
      "text/plain": [
       "[2, 3, 5, 7]"
      ]
     },
     "execution_count": 35,
     "metadata": {},
     "output_type": "execute_result"
    }
   ],
   "source": [
    "list((filter(prime,range(10))))"
   ]
  },
  {
   "cell_type": "code",
   "execution_count": 37,
   "metadata": {},
   "outputs": [
    {
     "name": "stdout",
     "output_type": "stream",
     "text": [
      "2 3 5 7\n"
     ]
    }
   ],
   "source": [
    "print(\" \".join(map(str,filter(prime,range(10)))))"
   ]
  },
  {
   "cell_type": "markdown",
   "metadata": {},
   "source": [
    "### Print all even numbers in the range between 20 to 50 using lambda() and filter()"
   ]
  },
  {
   "cell_type": "code",
   "execution_count": 41,
   "metadata": {},
   "outputs": [
    {
     "name": "stdout",
     "output_type": "stream",
     "text": [
      "20 22 24 26 28 30 32 34 36 38 40 42 44 46 48 50\n"
     ]
    }
   ],
   "source": [
    "a=lambda x:x%2==0\n",
    "print(\" \".join(map(str,(filter(a,range(20,51))))))\n"
   ]
  },
  {
   "cell_type": "markdown",
   "metadata": {},
   "source": [
    "### Generating a random data in file\n"
   ]
  },
  {
   "cell_type": "code",
   "execution_count": 47,
   "metadata": {},
   "outputs": [],
   "source": [
    "from random import randint\n",
    "def generatemarks(n,lb,ub):\n",
    "    filename=\"data.txt\"\n",
    "    with open(filename,\"w\") as f:\n",
    "        for i in range(n):\n",
    "            marks=randint(lb,ub)\n",
    "            f.write(str(marks)+\"\\n\")\n",
    "    return\n",
    "\n",
    "generatemarks(100,0,100)\n",
    "            "
   ]
  },
  {
   "cell_type": "markdown",
   "metadata": {},
   "source": [
    "#### Given two lists l1 and l2,l1 contains first name and l2 contains last name.Write a program to print single list that should contain full name of l1 and l2 and first letter must be capital\n"
   ]
  },
  {
   "cell_type": "code",
   "execution_count": 60,
   "metadata": {},
   "outputs": [
    {
     "data": {
      "text/plain": [
       "['Parameswari Puramsetty', 'Bhavana Puramsetty', 'Teju Kadiri', 'Bharath Soma']"
      ]
     },
     "execution_count": 60,
     "metadata": {},
     "output_type": "execute_result"
    }
   ],
   "source": [
    "# l1=[\"alekhya\"]\n",
    "# l2=[\"ganji\"]\n",
    "# output:[\"Alekhya Ganji\"]\n",
    "l1=[\"parameswari\",\"bhavana\",\"teju\",\"bharath\"]\n",
    "l2=[\"puramsetty\",\"puramsetty\",\"kadiri\",\"soma\"]\n",
    "a=lambda x,y :x[0].upper()+x[1:]+\" \"+y[0].upper()+y[1:]\n",
    "list(map(a,l1,l2))\n",
    "\n",
    "    "
   ]
  },
  {
   "cell_type": "code",
   "execution_count": 61,
   "metadata": {},
   "outputs": [
    {
     "data": {
      "text/plain": [
       "['Parameswari Puramsetty', 'Bhavana Puramsetty', 'Teju Kadiri', 'Bharath Soma']"
      ]
     },
     "execution_count": 61,
     "metadata": {},
     "output_type": "execute_result"
    }
   ],
   "source": [
    "l1=[\"parameswari\",\"bhavana\",\"teju\",\"bharath\"]\n",
    "l2=[\"puramsetty\",\"puramsetty\",\"kadiri\",\"soma\"]\n",
    "a=lambda x,y :x.capitalize()+\" \"+y.capitalize()\n",
    "list(map(a,l1,l2))\n"
   ]
  },
  {
   "cell_type": "code",
   "execution_count": 6,
   "metadata": {},
   "outputs": [
    {
     "name": "stdout",
     "output_type": "stream",
     "text": [
      "abcdef\n",
      "bcdf"
     ]
    }
   ],
   "source": [
    "#Printing a string by removing vowels in it\n",
    "l1=list(input())\n",
    "for i in l1:\n",
    "    if i=='a'or i=='e' or i=='i' or i=='o' or i=='u' or i=='A' or i=='E' or i=='I' or i=='O' or i=='U':\n",
    "        continue\n",
    "    print(i,end=\"\")\n"
   ]
  },
  {
   "cell_type": "code",
   "execution_count": 35,
   "metadata": {},
   "outputs": [
    {
     "name": "stdout",
     "output_type": "stream",
     "text": [
      "aeiouyhgfdv\n",
      "aeiou"
     ]
    }
   ],
   "source": [
    "#Printing a string by removing consonants in it\n",
    "def checkvowel(char):\n",
    "    v=[\"a\",\"e\",\"i\",\"o\",\"u\",\"A\",\"E\",\"I\",\"O\",\"U\"]\n",
    "    for i in char:\n",
    "        if i not in v:\n",
    "            continue\n",
    "        print(i,end=\"\")\n",
    "x=list(input())\n",
    "checkvowel(x)   "
   ]
  },
  {
   "cell_type": "code",
   "execution_count": 14,
   "metadata": {},
   "outputs": [
    {
     "name": "stdout",
     "output_type": "stream",
     "text": [
      "1234\n",
      "4\n"
     ]
    }
   ],
   "source": [
    "# sum of all odd integers in a given larger number\n",
    "n=list(input())\n",
    "count=0\n",
    "for i in n:\n",
    "    if int(i)%2!=0:\n",
    "        count+=int(i)\n",
    "print(count)\n",
    "        \n"
   ]
  },
  {
   "cell_type": "code",
   "execution_count": 18,
   "metadata": {},
   "outputs": [
    {
     "name": "stdout",
     "output_type": "stream",
     "text": [
      "I am a graduate student\n",
      "5\n"
     ]
    }
   ],
   "source": [
    "# printing no.of words in a sentence\n",
    "s=list(input().split())\n",
    "count=0\n",
    "for i in s:\n",
    "    count+=1\n",
    "print(count)"
   ]
  },
  {
   "cell_type": "code",
   "execution_count": 32,
   "metadata": {},
   "outputs": [
    {
     "name": "stdout",
     "output_type": "stream",
     "text": [
      "(abvsfdgt)(vsgs)Vgaf(\n",
      "False\n"
     ]
    }
   ],
   "source": [
    "#Check balance of paranthesis\n",
    "\n",
    "def paranth(s):\n",
    "    c1=0\n",
    "    c2=0\n",
    "    for i in s:\n",
    "        \n",
    "        if i=='(':\n",
    "            c1+=1\n",
    "        if i==')':\n",
    "            c2+=1\n",
    "    if c1==c2:\n",
    "        print(True)\n",
    "    print(False)\n",
    "s=list(input())\n",
    "paranth(s)\n",
    " "
   ]
  },
  {
   "cell_type": "code",
   "execution_count": 49,
   "metadata": {},
   "outputs": [
    {
     "name": "stdout",
     "output_type": "stream",
     "text": [
      "4 3 2 6 7 8 9 44\n",
      "2 3 4 6 44 9 8 7\n"
     ]
    }
   ],
   "source": [
    "#Sorting first half in ascending order and second half in descending order\n",
    "s=list(map(int,input().split(\" \")))\n",
    "l1=s[0:int(len(s)/2)]\n",
    "l2=s[int(len(s)/2):int(len(s))]\n",
    "p=sorted(l1)\n",
    "q=sorted(l2,reverse=True)\n",
    "r=\" \".join(map(str,p))\n",
    "s=\" \".join(map(str,q))\n",
    "print(r+\" \"+s)"
   ]
  },
  {
   "cell_type": "code",
   "execution_count": 4,
   "metadata": {},
   "outputs": [
    {
     "name": "stdout",
     "output_type": "stream",
     "text": [
      "2 4 7 9 3 1 6 8\n",
      "1 2 3 4 9 8 7 6\n"
     ]
    }
   ],
   "source": [
    "#Sorting whole list and dividing first half into ascending and second half into descending\n",
    "s=list(map(int,input().split(\" \")))\n",
    "p=sorted(s)\n",
    "q=p[0:int(len(p)/2)]\n",
    "r=sorted(p[int(len(p)/2):len(p)],reverse=True)\n",
    "print(\" \".join(map(str,q))+\" \"+\" \".join(map(str,r)))"
   ]
  },
  {
   "cell_type": "code",
   "execution_count": 2,
   "metadata": {},
   "outputs": [
    {
     "name": "stdout",
     "output_type": "stream",
     "text": [
      "8\n",
      "1\n",
      "2\n",
      "2\n",
      "4\n",
      "6\n",
      "6\n",
      "7\n",
      "8\n",
      "1 2 4 6 7 8\n"
     ]
    }
   ],
   "source": [
    "#To print distinct elements in a given array\n",
    "#input: 8\n",
    "#       1 2 2 4 5 6 6 7\n",
    "\n",
    "#output:1 2 4 5 6 7\n",
    "n=int(input())\n",
    "li=[]\n",
    "for i in range(n):\n",
    "    s=input()\n",
    "    li.append(s)\n",
    "li1=[]\n",
    "for j in li:\n",
    "    if j in li1:\n",
    "        continue\n",
    "    li1.append(j)\n",
    "print(\" \".join(map(str,li1)))"
   ]
  },
  {
   "cell_type": "code",
   "execution_count": 5,
   "metadata": {},
   "outputs": [
    {
     "name": "stdout",
     "output_type": "stream",
     "text": [
      "2 3\n"
     ]
    },
    {
     "data": {
      "text/plain": [
       "2"
      ]
     },
     "execution_count": 5,
     "metadata": {},
     "output_type": "execute_result"
    }
   ],
   "source": [
    "# print the pattern\n",
    "n,s=list(map(int,input().split(\" \")))\n",
    "print(n,end=\"\\n\")\n",
    "print(n+1)\n"
   ]
  },
  {
   "cell_type": "code",
   "execution_count": 11,
   "metadata": {},
   "outputs": [
    {
     "name": "stdout",
     "output_type": "stream",
     "text": [
      "20\n",
      "3 4 5\n",
      "4 3 5\n",
      "5 12 13\n",
      "6 8 10\n",
      "8 6 10\n",
      "8 15 17\n",
      "9 12 15\n",
      "12 5 13\n",
      "12 9 15\n",
      "12 16 20\n",
      "15 8 17\n",
      "16 12 20\n"
     ]
    }
   ],
   "source": [
    "# pythagorean triplets upto given limit\n",
    "limit=int(input())\n",
    "for i in range(3,limit+1):\n",
    "    for j in range(3,limit+1):\n",
    "        for k in range(3,limit+1):\n",
    "            if (i**2)+(j**2)==k**2:\n",
    "                print(i,j,k,end=\"\\n\")"
   ]
  },
  {
   "cell_type": "code",
   "execution_count": null,
   "metadata": {},
   "outputs": [],
   "source": []
  }
 ],
 "metadata": {
  "kernelspec": {
   "display_name": "Python 3",
   "language": "python",
   "name": "python3"
  }
 },
 "nbformat": 4,
 "nbformat_minor": 2
}
