{
 "cells": [
  {
   "cell_type": "markdown",
   "metadata": {},
   "source": [
    "### List Comprehensions\n",
    "* syntex [expression for_loop_one or more conditions]"
   ]
  },
  {
   "cell_type": "code",
   "execution_count": 4,
   "metadata": {},
   "outputs": [
    {
     "data": {
      "text/plain": [
       "[1, 2, 3, 4, 5]"
      ]
     },
     "execution_count": 4,
     "metadata": {},
     "output_type": "execute_result"
    }
   ],
   "source": [
    "n=\"1 2 3 4 5\"\n",
    "int_n=[]\n",
    "for ele in n.split():\n",
    "    int_n.append(int(ele))\n",
    "int_n\n",
    "    "
   ]
  },
  {
   "cell_type": "code",
   "execution_count": 5,
   "metadata": {},
   "outputs": [],
   "source": [
    "int_n2 = [int(ele) for ele in n.split() if int(ele)%2==0]"
   ]
  },
  {
   "cell_type": "code",
   "execution_count": 6,
   "metadata": {},
   "outputs": [
    {
     "data": {
      "text/plain": [
       "[2, 4]"
      ]
     },
     "execution_count": 6,
     "metadata": {},
     "output_type": "execute_result"
    }
   ],
   "source": [
    "int_n2"
   ]
  },
  {
   "cell_type": "code",
   "execution_count": 7,
   "metadata": {},
   "outputs": [
    {
     "data": {
      "text/plain": [
       "['h',\n",
       " 'i',\n",
       " 'h',\n",
       " 'o',\n",
       " 'w',\n",
       " 'a',\n",
       " 'r',\n",
       " 'e',\n",
       " 'y',\n",
       " 'o',\n",
       " 'u',\n",
       " 'h',\n",
       " 'e',\n",
       " 'l',\n",
       " 'l',\n",
       " 'o']"
      ]
     },
     "execution_count": 7,
     "metadata": {},
     "output_type": "execute_result"
    }
   ],
   "source": [
    "s=\"hi how are you hello\"\n",
    "ls=[char for w in s.split() for char in w]\n",
    "ls"
   ]
  },
  {
   "cell_type": "code",
   "execution_count": 11,
   "metadata": {},
   "outputs": [
    {
     "data": {
      "text/plain": [
       "['hi', 'how', 'are', 'you', 'hello']"
      ]
     },
     "execution_count": 11,
     "metadata": {},
     "output_type": "execute_result"
    }
   ],
   "source": [
    "s1=\"hi how are you hello\"\n",
    "ls1=[w for w in s1.split()]\n",
    "ls1"
   ]
  },
  {
   "cell_type": "markdown",
   "metadata": {},
   "source": [
    "* sum the digits of given string:  13B15A84R7"
   ]
  },
  {
   "cell_type": "code",
   "execution_count": 30,
   "metadata": {},
   "outputs": [
    {
     "name": "stdout",
     "output_type": "stream",
     "text": [
      "yw4512\n",
      "12\n"
     ]
    }
   ],
   "source": [
    "str1=input()\n",
    "l=[int(i) for i in str1 if i.isdigit()]\n",
    "print(sum(l))"
   ]
  },
  {
   "cell_type": "markdown",
   "metadata": {},
   "source": [
    "* print the names which ends with with a"
   ]
  },
  {
   "cell_type": "code",
   "execution_count": 31,
   "metadata": {},
   "outputs": [
    {
     "name": "stdout",
     "output_type": "stream",
     "text": [
      "names must be given in spacesyashmini bittu divya sulona teja\n"
     ]
    },
    {
     "data": {
      "text/plain": [
       "['divya', 'sulona', 'teja']"
      ]
     },
     "execution_count": 31,
     "metadata": {},
     "output_type": "execute_result"
    }
   ],
   "source": [
    "names = input(\"names must be given in spaces\")\n",
    "[name for name in names.split() if name.endswith(\"a\")]"
   ]
  },
  {
   "cell_type": "code",
   "execution_count": 33,
   "metadata": {},
   "outputs": [
    {
     "name": "stdout",
     "output_type": "stream",
     "text": [
      "names must be given in spacesyash sulo ali\n"
     ]
    },
    {
     "data": {
      "text/plain": [
       "['yash', 'ali']"
      ]
     },
     "execution_count": 33,
     "metadata": {},
     "output_type": "execute_result"
    }
   ],
   "source": [
    "names = input(\"names must be given in spaces\")\n",
    "[name for name in names.split() if \"a\" in name]"
   ]
  },
  {
   "cell_type": "code",
   "execution_count": 37,
   "metadata": {},
   "outputs": [
    {
     "name": "stdout",
     "output_type": "stream",
     "text": [
      "[34.6, 44.9, 68.3, 44.6, 12.7]\n"
     ]
    }
   ],
   "source": [
    "numbers=[34.6, -203.4, 44.9, 68.3, -12.2, 44.6, 12.7]\n",
    "print([num for num in numbers if num > 0])"
   ]
  },
  {
   "cell_type": "markdown",
   "metadata": {},
   "source": [
    "* Take a string as input and return a list of name which has \"AEIOU\" ."
   ]
  },
  {
   "cell_type": "code",
   "execution_count": 54,
   "metadata": {},
   "outputs": [
    {
     "name": "stdout",
     "output_type": "stream",
     "text": [
      "enter the names:yash aeiou jsh\n"
     ]
    },
    {
     "data": {
      "text/plain": [
       "['yash', 'aeiou']"
      ]
     },
     "execution_count": 54,
     "metadata": {},
     "output_type": "execute_result"
    }
   ],
   "source": [
    "names=input(\"enter the names:\")\n",
    "[name for name in names.split() if 'a' in name or 'e' in name or 'i' in name or 'o' in name or 'u' in name]"
   ]
  },
  {
   "cell_type": "markdown",
   "metadata": {},
   "source": [
    "* Take a string as input and return a string with vowels removed.\n",
    "  * sentence = 'My name is Aarshay Jain!'\n",
    "  * Output = \"My nm s Arshy Jn!\""
   ]
  },
  {
   "cell_type": "code",
   "execution_count": 57,
   "metadata": {},
   "outputs": [
    {
     "name": "stdout",
     "output_type": "stream",
     "text": [
      " my name is Aarshay jain\n"
     ]
    },
    {
     "data": {
      "text/plain": [
       "['my', 'name', 'is', 'Aarshay', 'jain']"
      ]
     },
     "execution_count": 57,
     "metadata": {},
     "output_type": "execute_result"
    }
   ],
   "source": [
    "sentence=input(\" \")\n",
    "[name for name in sentence.split() if 'a' not in name or 'e' not in name or 'i' not in name or 'o' not in name or 'u' not in name]"
   ]
  },
  {
   "cell_type": "code",
   "execution_count": 59,
   "metadata": {},
   "outputs": [
    {
     "data": {
      "text/plain": [
       "'My nm s Arshy Jn!'"
      ]
     },
     "execution_count": 59,
     "metadata": {},
     "output_type": "execute_result"
    }
   ],
   "source": [
    "sentence = 'My name is Aarshay Jain!'\n",
    "\"\".join([ch for ch in sentence if ch not in \"aeiou\"])"
   ]
  },
  {
   "cell_type": "code",
   "execution_count": null,
   "metadata": {},
   "outputs": [],
   "source": []
  }
 ],
 "metadata": {
  "kernelspec": {
   "display_name": "Python 3",
   "language": "python",
   "name": "python3"
  },
  "language_info": {
   "codemirror_mode": {
    "name": "ipython",
    "version": 3
   },
   "file_extension": ".py",
   "mimetype": "text/x-python",
   "name": "python",
   "nbconvert_exporter": "python",
   "pygments_lexer": "ipython3",
   "version": "3.7.3"
  }
 },
 "nbformat": 4,
 "nbformat_minor": 2
}
